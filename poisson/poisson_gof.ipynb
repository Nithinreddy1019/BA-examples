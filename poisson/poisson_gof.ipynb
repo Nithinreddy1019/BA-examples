{
 "cells": [
  {
   "cell_type": "code",
   "execution_count": 4,
   "metadata": {},
   "outputs": [
    {
     "name": "stdout",
     "output_type": "stream",
     "text": [
      "   obs\n",
      "0    5\n",
      "1    4\n",
      "2    4\n",
      "3    5\n",
      "4    5\n",
      "(100, 1)\n"
     ]
    }
   ],
   "source": [
    "import pandas as pd\n",
    "import numpy as np\n",
    "\n",
    "df = pd.read_excel(\"data_Poisson.xlsx\")\n",
    "\n",
    "print(df.head())\n",
    "print(df.shape)"
   ]
  },
  {
   "cell_type": "code",
   "execution_count": 5,
   "metadata": {},
   "outputs": [
    {
     "data": {
      "image/png": "[encoded data removed]",
      "text/plain": [
       "<Figure size 640x480 with 1 Axes>"
      ]
     },
     "metadata": {},
     "output_type": "display_data"
    }
   ],
   "source": [
    "#Visualize the data as a histogram\n",
    "import matplotlib.pyplot as plt\n",
    "plt.hist(df['obs'], edgecolor = \"red\")\n",
    "plt.show()"
   ]
  },
  {
   "cell_type": "code",
   "execution_count": 6,
   "metadata": {},
   "outputs": [
    {
     "data": {
      "text/html": [
       "<div>\n",
       "<style scoped>\n",
       "    .dataframe tbody tr th:only-of-type {\n",
       "        vertical-align: middle;\n",
       "    }\n",
       "\n",
       "    .dataframe tbody tr th {\n",
       "        vertical-align: top;\n",
       "    }\n",
       "\n",
       "    .dataframe thead th {\n",
       "        text-align: right;\n",
       "    }\n",
       "</style>\n",
       "<table border=\"1\" class=\"dataframe\">\n",
       "  <thead>\n",
       "    <tr style=\"text-align: right;\">\n",
       "      <th></th>\n",
       "      <th>obs</th>\n",
       "    </tr>\n",
       "  </thead>\n",
       "  <tbody>\n",
       "    <tr>\n",
       "      <th>count</th>\n",
       "      <td>100.000000</td>\n",
       "    </tr>\n",
       "    <tr>\n",
       "      <th>mean</th>\n",
       "      <td>4.940000</td>\n",
       "    </tr>\n",
       "    <tr>\n",
       "      <th>std</th>\n",
       "      <td>2.381834</td>\n",
       "    </tr>\n",
       "    <tr>\n",
       "      <th>min</th>\n",
       "      <td>1.000000</td>\n",
       "    </tr>\n",
       "    <tr>\n",
       "      <th>25%</th>\n",
       "      <td>3.000000</td>\n",
       "    </tr>\n",
       "    <tr>\n",
       "      <th>50%</th>\n",
       "      <td>5.000000</td>\n",
       "    </tr>\n",
       "    <tr>\n",
       "      <th>75%</th>\n",
       "      <td>6.000000</td>\n",
       "    </tr>\n",
       "    <tr>\n",
       "      <th>max</th>\n",
       "      <td>11.000000</td>\n",
       "    </tr>\n",
       "  </tbody>\n",
       "</table>\n",
       "</div>"
      ],
      "text/plain": [
       "              obs\n",
       "count  100.000000\n",
       "mean     4.940000\n",
       "std      2.381834\n",
       "min      1.000000\n",
       "25%      3.000000\n",
       "50%      5.000000\n",
       "75%      6.000000\n",
       "max     11.000000"
      ]
     },
     "execution_count": 6,
     "metadata": {},
     "output_type": "execute_result"
    }
   ],
   "source": [
    "#getting descriptive statistics\n",
    "df.describe()"
   ]
  },
  {
   "cell_type": "code",
   "execution_count": 7,
   "metadata": {},
   "outputs": [
    {
     "name": "stdout",
     "output_type": "stream",
     "text": [
      "{('Skew Observed', np.float64(0.51)), ('Variance Observed', np.float64(5.67)), ('Kurt Observed', np.float64(-0.38))}\n"
     ]
    }
   ],
   "source": [
    "#Some additional descriptive statistics\n",
    "stats_labels = ['Variance Observed', 'Skew Observed', 'Kurt Observed']\n",
    "stats_values = [round(df['obs'].var(), 2), round(df['obs'].skew(),2), round(df['obs'].kurt(),2)]\n",
    "print(set(zip(stats_labels, stats_values)))\n"
   ]
  },
  {
   "cell_type": "code",
   "execution_count": 8,
   "metadata": {},
   "outputs": [],
   "source": [
    "#Importing the required statistical packages\n",
    "import statsmodels.api as sm\n",
    "import scipy.stats as stats\n",
    "from scipy.stats import norm, uniform, poisson\n",
    "from statsmodels.graphics.gofplots import qqplot\n",
    "from scipy.stats import chisquare\n",
    "from scipy.stats import chi2\n",
    "\n",
    "#New\n",
    "from scipy.stats import poisson"
   ]
  },
  {
   "cell_type": "code",
   "execution_count": null,
   "metadata": {},
   "outputs": [],
   "source": [
    "# NULL HYPOTHESIS: The given data follows Poisson distribution.\n",
    "# ALTERNATE HYPOTHESIS: The given data does not follow Poisson distribution"
   ]
  },
  {
   "cell_type": "code",
   "execution_count": 12,
   "metadata": {},
   "outputs": [
    {
     "name": "stdout",
     "output_type": "stream",
     "text": [
      "    obs         Bins\n",
      "0     5   (4.0, 5.0]\n",
      "1     4   (3.0, 4.0]\n",
      "2     4   (3.0, 4.0]\n",
      "3     5   (4.0, 5.0]\n",
      "4     5   (4.0, 5.0]\n",
      "..  ...          ...\n",
      "95    6   (5.0, 6.0]\n",
      "96    8   (7.0, 8.0]\n",
      "97    6   (5.0, 6.0]\n",
      "98    2  (0.99, 2.0]\n",
      "99    3   (2.0, 3.0]\n",
      "\n",
      "[100 rows x 2 columns]\n"
     ]
    }
   ],
   "source": [
    "#Step-1 in CHi-Square GOF: Create Bins\n",
    "df['Bins'] = pd.cut(df['obs'], bins=10)\n",
    "print(df)"
   ]
  },
  {
   "cell_type": "code",
   "execution_count": 13,
   "metadata": {},
   "outputs": [
    {
     "name": "stderr",
     "output_type": "stream",
     "text": [
      "C:\\Users\\kethi\\AppData\\Local\\Temp\\ipykernel_57532\\379125594.py:3: FutureWarning: The default of observed=False is deprecated and will be changed to True in a future version of pandas. Pass observed=False to retain current behavior or observed=True to adopt the future default and silence this warning.\n",
      "  df_2 [\"Observed Frequency\"] = (df.groupby('Bins').count())\n"
     ]
    },
    {
     "data": {
      "text/html": [
       "<div>\n",
       "<style scoped>\n",
       "    .dataframe tbody tr th:only-of-type {\n",
       "        vertical-align: middle;\n",
       "    }\n",
       "\n",
       "    .dataframe tbody tr th {\n",
       "        vertical-align: top;\n",
       "    }\n",
       "\n",
       "    .dataframe thead th {\n",
       "        text-align: right;\n",
       "    }\n",
       "</style>\n",
       "<table border=\"1\" class=\"dataframe\">\n",
       "  <thead>\n",
       "    <tr style=\"text-align: right;\">\n",
       "      <th></th>\n",
       "      <th>Observed Frequency</th>\n",
       "    </tr>\n",
       "    <tr>\n",
       "      <th>Bins</th>\n",
       "      <th></th>\n",
       "    </tr>\n",
       "  </thead>\n",
       "  <tbody>\n",
       "    <tr>\n",
       "      <th>(0.99, 2.0]</th>\n",
       "      <td>17</td>\n",
       "    </tr>\n",
       "    <tr>\n",
       "      <th>(2.0, 3.0]</th>\n",
       "      <td>15</td>\n",
       "    </tr>\n",
       "    <tr>\n",
       "      <th>(3.0, 4.0]</th>\n",
       "      <td>16</td>\n",
       "    </tr>\n",
       "    <tr>\n",
       "      <th>(4.0, 5.0]</th>\n",
       "      <td>13</td>\n",
       "    </tr>\n",
       "    <tr>\n",
       "      <th>(5.0, 6.0]</th>\n",
       "      <td>15</td>\n",
       "    </tr>\n",
       "    <tr>\n",
       "      <th>(6.0, 7.0]</th>\n",
       "      <td>8</td>\n",
       "    </tr>\n",
       "    <tr>\n",
       "      <th>(7.0, 8.0]</th>\n",
       "      <td>7</td>\n",
       "    </tr>\n",
       "    <tr>\n",
       "      <th>(8.0, 9.0]</th>\n",
       "      <td>5</td>\n",
       "    </tr>\n",
       "    <tr>\n",
       "      <th>(9.0, 10.0]</th>\n",
       "      <td>2</td>\n",
       "    </tr>\n",
       "    <tr>\n",
       "      <th>(10.0, 11.0]</th>\n",
       "      <td>2</td>\n",
       "    </tr>\n",
       "  </tbody>\n",
       "</table>\n",
       "</div>"
      ],
      "text/plain": [
       "              Observed Frequency\n",
       "Bins                            \n",
       "(0.99, 2.0]                   17\n",
       "(2.0, 3.0]                    15\n",
       "(3.0, 4.0]                    16\n",
       "(4.0, 5.0]                    13\n",
       "(5.0, 6.0]                    15\n",
       "(6.0, 7.0]                     8\n",
       "(7.0, 8.0]                     7\n",
       "(8.0, 9.0]                     5\n",
       "(9.0, 10.0]                    2\n",
       "(10.0, 11.0]                   2"
      ]
     },
     "execution_count": 13,
     "metadata": {},
     "output_type": "execute_result"
    }
   ],
   "source": [
    "#Step-2 in CHi-Square GOF: Count Number of Observations in Each Bin\n",
    "df_2 = pd.DataFrame()\n",
    "df_2 [\"Observed Frequency\"] = (df.groupby('Bins').count())\n",
    "df_2"
   ]
  },
  {
   "cell_type": "code",
   "execution_count": 14,
   "metadata": {},
   "outputs": [],
   "source": [
    "# I cannot use the above method of forming bins, as Poisson Distribution is \"Discrete\". So, I adopt the following method. \n",
    "\n",
    "#Step-2 in CHi-Square GOF: Count Number of Observations in Each Bin"
   ]
  },
  {
   "cell_type": "code",
   "execution_count": 15,
   "metadata": {},
   "outputs": [
    {
     "name": "stdout",
     "output_type": "stream",
     "text": [
      "Empty DataFrame\n",
      "Columns: []\n",
      "Index: []\n"
     ]
    }
   ],
   "source": [
    "#Step-2A: Creating a new data frame\n",
    "grouped_df = pd.DataFrame()\n",
    "print(grouped_df)\n"
   ]
  },
  {
   "cell_type": "code",
   "execution_count": 16,
   "metadata": {},
   "outputs": [
    {
     "name": "stdout",
     "output_type": "stream",
     "text": [
      "     Observed Frequency\n",
      "obs                    \n",
      "1                     3\n",
      "2                    14\n",
      "3                    15\n",
      "4                    16\n",
      "5                    13\n",
      "6                    15\n",
      "7                     8\n",
      "8                     7\n",
      "9                     5\n",
      "10                    2\n",
      "11                    2\n"
     ]
    }
   ],
   "source": [
    "#Step-2B: Creating buckets based on the values in the sample \n",
    "grouped_df['Observed Frequency']= df.groupby('obs')['obs'].count()\n",
    "print(grouped_df)"
   ]
  },
  {
   "cell_type": "code",
   "execution_count": 17,
   "metadata": {},
   "outputs": [
    {
     "name": "stdout",
     "output_type": "stream",
     "text": [
      "     Observed Frequency  POISSON_PMF\n",
      "obs                                 \n",
      "1                     3     0.035344\n",
      "2                    14     0.087299\n",
      "3                    15     0.143752\n",
      "4                    16     0.177534\n",
      "5                    13     0.175404\n",
      "6                    15     0.144416\n",
      "7                     8     0.101916\n",
      "8                     7     0.062933\n",
      "9                     5     0.034543\n",
      "10                    2     0.017064\n",
      "11                    2     0.007663\n"
     ]
    }
   ],
   "source": [
    "#Step-3: Determining the Expected Frequency in Each Bin\n",
    "#Step-3A: Determined the Poisson PMF for each bucket\n",
    "grouped_df['POISSON_PMF'] = poisson.pmf(k=grouped_df.index, mu=df['obs'].mean())\n",
    "print(grouped_df)"
   ]
  },
  {
   "cell_type": "code",
   "execution_count": 18,
   "metadata": {},
   "outputs": [
    {
     "name": "stdout",
     "output_type": "stream",
     "text": [
      "     Observed Frequency  POISSON_PMF  Expected Frequency\n",
      "obs                                                     \n",
      "1                     3     0.035344            3.534372\n",
      "2                    14     0.087299            8.729898\n",
      "3                    15     0.143752           14.375232\n",
      "4                    16     0.177534           17.753411\n",
      "5                    13     0.175404           17.540370\n",
      "6                    15     0.144416           14.441572\n",
      "7                     8     0.101916           10.191623\n",
      "8                     7     0.062933            6.293327\n",
      "9                     5     0.034543            3.454337\n",
      "10                    2     0.017064            1.706443\n",
      "11                    2     0.007663            0.766348\n"
     ]
    }
   ],
   "source": [
    "#Step-3B: Determined the expected frequency in each bucket\n",
    "grouped_df['Expected Frequency'] = grouped_df['POISSON_PMF']*len(df)\n",
    "print(grouped_df)"
   ]
  },
  {
   "cell_type": "code",
   "execution_count": 22,
   "metadata": {},
   "outputs": [
    {
     "ename": "ValueError",
     "evalue": "For each axis slice, the sum of the observed frequencies must agree with the sum of the expected frequencies to a relative tolerance of 1.4901161193847656e-08, but the percent differences are:\n0.012279627592810389",
     "output_type": "error",
     "traceback": [
      "\u001b[31m---------------------------------------------------------------------------\u001b[39m",
      "\u001b[31mValueError\u001b[39m                                Traceback (most recent call last)",
      "\u001b[32m~\\AppData\\Local\\Temp\\ipykernel_57532\\1165312822.py\u001b[39m in \u001b[36m?\u001b[39m\u001b[34m()\u001b[39m\n\u001b[32m      1\u001b[39m \u001b[38;5;66;03m#Step-4A in CHi-Square GOF: Determine the Test Statistics and P-Value\u001b[39;00m\n\u001b[32m----> \u001b[39m\u001b[32m2\u001b[39m chisquare(grouped_df[\u001b[33m'Observed Frequency'\u001b[39m], grouped_df[\u001b[33m'Expected Frequency'\u001b[39m], ddof=\u001b[32m1\u001b[39m)\n",
      "\u001b[32mc:\\Users\\kethi\\Documents\\BA(ML)\\Week2\\code\\poisson\\venv\\Lib\\site-packages\\scipy\\stats\\_stats_py.py\u001b[39m in \u001b[36m?\u001b[39m\u001b[34m(f_obs, f_exp, ddof, axis, sum_check)\u001b[39m\n\u001b[32m   7502\u001b[39m     Power_divergenceResult(statistic=array([\u001b[32m3.5\u001b[39m , \u001b[32m9.25\u001b[39m]), pvalue=array([\u001b[32m0.62338763\u001b[39m, \u001b[32m0.09949846\u001b[39m]))\n\u001b[32m   7503\u001b[39m \n\u001b[32m   7504\u001b[39m     For a more detailed example, see :ref:`hypothesis_chisquare`.\n\u001b[32m   7505\u001b[39m     \"\"\"  # noqa: E501\n\u001b[32m-> \u001b[39m\u001b[32m7506\u001b[39m     return _power_divergence(f_obs, f_exp=f_exp, ddof=ddof, axis=axis,\n\u001b[32m   7507\u001b[39m                              lambda_=\u001b[33m\"pearson\"\u001b[39m, sum_check=sum_check)\n",
      "\u001b[32mc:\\Users\\kethi\\Documents\\BA(ML)\\Week2\\code\\poisson\\venv\\Lib\\site-packages\\scipy\\stats\\_stats_py.py\u001b[39m in \u001b[36m?\u001b[39m\u001b[34m(f_obs, f_exp, ddof, axis, lambda_, sum_check)\u001b[39m\n\u001b[32m   7318\u001b[39m                        f\"frequencies must agree with the sum of the \"\n\u001b[32m   7319\u001b[39m                        f\"expected frequencies to a relative tolerance \"\n\u001b[32m   7320\u001b[39m                        f\"of {rtol}, but the percent differences are:\\n\"\n\u001b[32m   7321\u001b[39m                        f\"{relative_diff}\")\n\u001b[32m-> \u001b[39m\u001b[32m7322\u001b[39m                 \u001b[38;5;28;01mraise\u001b[39;00m ValueError(msg)\n\u001b[32m   7323\u001b[39m \n\u001b[32m   7324\u001b[39m     \u001b[38;5;28;01melse\u001b[39;00m:\n\u001b[32m   7325\u001b[39m         \u001b[38;5;66;03m# Ignore 'invalid' errors so the edge case of a data set with length 0\u001b[39;00m\n",
      "\u001b[31mValueError\u001b[39m: For each axis slice, the sum of the observed frequencies must agree with the sum of the expected frequencies to a relative tolerance of 1.4901161193847656e-08, but the percent differences are:\n0.012279627592810389"
     ]
    }
   ],
   "source": [
    "#Step-4A in CHi-Square GOF: Determine the Test Statistics and P-Value \n",
    "chisquare(grouped_df['Observed Frequency'], grouped_df['Expected Frequency'], ddof=1)"
   ]
  },
  {
   "cell_type": "code",
   "execution_count": 20,
   "metadata": {},
   "outputs": [
    {
     "name": "stdout",
     "output_type": "stream",
     "text": [
      "100\n",
      "98.78693324867051\n"
     ]
    }
   ],
   "source": [
    "#The above error occures because of the mismatch between the number (count) of values in the \"Observed Frequency\" and \"Expected Frequency\"\n",
    "print(grouped_df['Observed Frequency'].sum())\n",
    "print(grouped_df['Expected Frequency'].sum())"
   ]
  },
  {
   "cell_type": "code",
   "execution_count": 21,
   "metadata": {},
   "outputs": [
    {
     "name": "stdout",
     "output_type": "stream",
     "text": [
      "0.9878693324867053\n"
     ]
    }
   ],
   "source": [
    "# To fix this, you need to apply the principle of probability (sum of probabilities should add up to 1).\n",
    "print(grouped_df['POISSON_PMF'].sum())\n",
    "\n",
    "# In our data, the probability for POISSON PMF does not add up to 1."
   ]
  },
  {
   "cell_type": "code",
   "execution_count": null,
   "metadata": {},
   "outputs": [],
   "source": []
  }
 ],
 "metadata": {
  "kernelspec": {
   "display_name": "venv",
   "language": "python",
   "name": "python3"
  },
  "language_info": {
   "codemirror_mode": {
    "name": "ipython",
    "version": 3
   },
   "file_extension": ".py",
   "mimetype": "text/x-python",
   "name": "python",
   "nbconvert_exporter": "python",
   "pygments_lexer": "ipython3",
   "version": "3.12.6"
  }
 },
 "nbformat": 4,
 "nbformat_minor": 2
}
